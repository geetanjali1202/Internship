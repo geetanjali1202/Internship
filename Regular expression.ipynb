{
 "cells": [
  {
   "cell_type": "markdown",
   "id": "d30340f2",
   "metadata": {},
   "source": [
    "Regular Expressions Assignment \n",
    "\n",
    "Internship ID - DS2402\n",
    "\n",
    "Submitted by - Geetanjali Joshi"
   ]
  },
  {
   "cell_type": "markdown",
   "id": "bf3baa4a",
   "metadata": {},
   "source": [
    "- Question 1- Python program to replace all occurrences of a space, comma, or dot with a colon."
   ]
  },
  {
   "cell_type": "code",
   "execution_count": 4,
   "id": "f4ad4e4d",
   "metadata": {},
   "outputs": [
    {
     "name": "stdout",
     "output_type": "stream",
     "text": [
      "Python:Exercises::PHP:exercises:\n"
     ]
    }
   ],
   "source": [
    "import re\n",
    "text = 'Python Exercises, PHP exercises.'\n",
    "\n",
    "text1 = re.sub('[ ,.]',':',text)\n",
    "\n",
    "print(text1)"
   ]
  },
  {
   "cell_type": "markdown",
   "id": "2f95726d",
   "metadata": {},
   "source": [
    "- Question 2-  Create a dataframe using the dictionary below and remove everything (commas (,), !, XXXX, ;, etc.) from the columns except words.\n",
    "\n",
    "Dictionary- {'SUMMARY' : ['hello, world!', 'XXXXX test', '123four, five:; six...']}\n",
    "\n",
    "Expected output-\n",
    "\n",
    "0      hello world\n",
    "1             test\n",
    "2    four five six"
   ]
  },
  {
   "cell_type": "code",
   "execution_count": 37,
   "id": "005d8fbb",
   "metadata": {},
   "outputs": [
    {
     "name": "stdout",
     "output_type": "stream",
     "text": [
      "            SUMMARY\n",
      "0       hello world\n",
      "1        XXXXX test\n",
      "2  123four five six\n"
     ]
    }
   ],
   "source": [
    "import pandas as pd\n",
    "\n",
    "data = {'SUMMARY' : ['hello, world!', 'XXXXX test', '123four, five:; six...']}\n",
    "df = pd.DataFrame(data)\n",
    "\n",
    "def my_function(text):\n",
    "    return re.sub(r'[^\\w\\s]', \"\", text)\n",
    "df['SUMMARY'] = df['SUMMARY'].apply(my_function)\n",
    "print(df)\n"
   ]
  },
  {
   "cell_type": "markdown",
   "id": "fbe40ab1",
   "metadata": {},
   "source": [
    "- Question 3- Create a function in python to find all words that are at least 4 characters long in a string. The use of the re.compile() method is mandatory.\n"
   ]
  },
  {
   "cell_type": "code",
   "execution_count": 6,
   "id": "15e2c1a4",
   "metadata": {},
   "outputs": [
    {
     "name": "stdout",
     "output_type": "stream",
     "text": [
      "['Dark', 'colored', 'bitter', 'slightly', 'acidic', 'coffee', 'stimulating', 'effect', 'humans', 'primarily', 'caffeine', 'content']\n"
     ]
    }
   ],
   "source": [
    "# define a function\n",
    "\n",
    "def my_function(string):\n",
    "    pattern = re.compile(r'\\b\\w{4,}\\b')\n",
    "    matches = pattern.findall(string)\n",
    "    return matches\n",
    "string =  \" Dark colored, bitter, and slightly acidic, coffee has a stimulating effect on humans, primarily due to its caffeine content.\"\n",
    "\n",
    "result = my_function(string)\n",
    "print(result)"
   ]
  },
  {
   "cell_type": "markdown",
   "id": "6fa1f7b0",
   "metadata": {},
   "source": [
    "- Question 4- Create a function in python to find all three, four, and five character words in a string. The use of the re.compile() method is mandatory.\n"
   ]
  },
  {
   "cell_type": "code",
   "execution_count": 7,
   "id": "e6b2e693",
   "metadata": {},
   "outputs": [
    {
     "name": "stdout",
     "output_type": "stream",
     "text": [
      "['Dark', 'bitter', 'and', 'acidic', 'coffee', 'has', 'effect', 'humans', 'due', 'its']\n"
     ]
    }
   ],
   "source": [
    "def my_function(string):\n",
    "    pattern = re.compile(r'\\b\\w{3,6}\\b')\n",
    "    matches = pattern.findall(string)\n",
    "    return matches\n",
    "string = \"Dark colored, bitter, and slightly acidic, coffee has a stimulating effect on humans, primarily due to its caffeine content.\"\n",
    "result = my_function(string)\n",
    "print(result)"
   ]
  },
  {
   "cell_type": "markdown",
   "id": "8d460286",
   "metadata": {},
   "source": [
    "- Question 5- Create a function in Python to remove the parenthesis in a list of strings. The use of the re.compile() method is mandatory.\n"
   ]
  },
  {
   "cell_type": "code",
   "execution_count": 8,
   "id": "8308a10e",
   "metadata": {},
   "outputs": [
    {
     "name": "stdout",
     "output_type": "stream",
     "text": [
      "example\n",
      "hr@fliprobo\n",
      "github\n",
      "Hello\n",
      "Data\n"
     ]
    }
   ],
   "source": [
    "strings =  [\"example (.com)\", \"hr@fliprobo (.com)\", \"github (.com)\", \"Hello (Data Science World)\", \"Data (Scientist)\"]\n",
    "\n",
    "for string in strings:\n",
    "    print(re.sub(r' ?\\([^)]+\\)', \"\", string))"
   ]
  },
  {
   "cell_type": "markdown",
   "id": "c88f3b56",
   "metadata": {},
   "source": [
    "- Question 6- Write a python program to remove the parenthesis area from the text stored in the text file using Regular Expression.\n"
   ]
  },
  {
   "cell_type": "code",
   "execution_count": 9,
   "id": "e6a938e5",
   "metadata": {},
   "outputs": [
    {
     "name": "stdout",
     "output_type": "stream",
     "text": [
      "example\n",
      "hr@fliprobo\n",
      "github\n",
      "Hello\n",
      "Data\n"
     ]
    }
   ],
   "source": [
    "strings =  [\"example (.com)\", \"hr@fliprobo (.com)\", \"github (.com)\", \"Hello (Data Science World)\", \"Data (Scientist)\"]\n",
    "\n",
    "for string in strings:\n",
    "     print(re.sub(r' ?\\([^)]+\\)', \"\", string))"
   ]
  },
  {
   "cell_type": "markdown",
   "id": "adb375f9",
   "metadata": {},
   "source": [
    "- Question 7- Write a regular expression in Python to split a string into uppercase letters.\n"
   ]
  },
  {
   "cell_type": "code",
   "execution_count": 10,
   "id": "ff01b482",
   "metadata": {},
   "outputs": [
    {
     "name": "stdout",
     "output_type": "stream",
     "text": [
      "['Importance', 'Of', 'Regular', 'Expressions', 'In', 'Python']\n"
     ]
    }
   ],
   "source": [
    "text = \"ImportanceOfRegularExpressionsInPython\"\n",
    "print(re.findall('[A-Z][^A-Z]*', text))"
   ]
  },
  {
   "cell_type": "markdown",
   "id": "74c3a638",
   "metadata": {},
   "source": [
    "- Question 8- Create a function in python to insert spaces between words starting with numbers.\n"
   ]
  },
  {
   "cell_type": "code",
   "execution_count": 11,
   "id": "47853bdb",
   "metadata": {},
   "outputs": [
    {
     "name": "stdout",
     "output_type": "stream",
     "text": [
      "RegularExpression1 IsAn2 ImportantTopic3 InPython\n"
     ]
    }
   ],
   "source": [
    "import re\n",
    "\n",
    "def insert_spaces(text):\n",
    "  # Use regular expression to find words starting with numbers\n",
    "  pattern = r'(\\d+)([A-Za-z]+)'\n",
    "  result = re.sub(pattern, r'\\1 \\2', text)\n",
    "  return result\n",
    "\n",
    "text = \"RegularExpression1IsAn2ImportantTopic3InPython\"\n",
    "output = insert_spaces(text)\n",
    "print(output)"
   ]
  },
  {
   "cell_type": "markdown",
   "id": "62cae951",
   "metadata": {},
   "source": [
    "- Question 9- Create a function in python to insert spaces between words starting with capital letters or with numbers."
   ]
  },
  {
   "cell_type": "code",
   "execution_count": 12,
   "id": "eee392bd",
   "metadata": {},
   "outputs": [
    {
     "name": "stdout",
     "output_type": "stream",
     "text": [
      "RegularExpression1 IsAn2 ImportantTopic3 InPython\n"
     ]
    }
   ],
   "source": [
    "def insert_spaces(text):\n",
    "  # Use regular expression to find words starting with numbers\n",
    "  pattern = r'(\\d+)([A-Za-z]+)'\n",
    "  result = re.sub(pattern, r'\\1 \\2', text)\n",
    "  return result\n",
    "\n",
    "text = \"RegularExpression1IsAn2ImportantTopic3InPython\"\n",
    "output = insert_spaces(text)\n",
    "print(output)"
   ]
  },
  {
   "cell_type": "markdown",
   "id": "67a7d283",
   "metadata": {},
   "source": [
    "- Question 10- Use the github link below to read the data and create a dataframe. After creating the dataframe extract the first 6 letters of each country and store in the dataframe under a new column called first_five_letters."
   ]
  },
  {
   "cell_type": "code",
   "execution_count": 18,
   "id": "fabc022b",
   "metadata": {},
   "outputs": [
    {
     "data": {
      "text/html": [
       "<div>\n",
       "<style scoped>\n",
       "    .dataframe tbody tr th:only-of-type {\n",
       "        vertical-align: middle;\n",
       "    }\n",
       "\n",
       "    .dataframe tbody tr th {\n",
       "        vertical-align: top;\n",
       "    }\n",
       "\n",
       "    .dataframe thead th {\n",
       "        text-align: right;\n",
       "    }\n",
       "</style>\n",
       "<table border=\"1\" class=\"dataframe\">\n",
       "  <thead>\n",
       "    <tr style=\"text-align: right;\">\n",
       "      <th></th>\n",
       "      <th>Country</th>\n",
       "      <th>Region</th>\n",
       "      <th>Happiness Rank</th>\n",
       "      <th>Happiness Score</th>\n",
       "      <th>Standard Error</th>\n",
       "      <th>Economy (GDP per Capita)</th>\n",
       "      <th>Family</th>\n",
       "      <th>Health (Life Expectancy)</th>\n",
       "      <th>Freedom</th>\n",
       "      <th>Trust (Government Corruption)</th>\n",
       "      <th>Generosity</th>\n",
       "      <th>Dystopia Residual</th>\n",
       "      <th>first_five_letters</th>\n",
       "    </tr>\n",
       "  </thead>\n",
       "  <tbody>\n",
       "    <tr>\n",
       "      <th>0</th>\n",
       "      <td>Switzerland</td>\n",
       "      <td>Western Europe</td>\n",
       "      <td>1</td>\n",
       "      <td>7.587</td>\n",
       "      <td>0.03411</td>\n",
       "      <td>1.39651</td>\n",
       "      <td>1.34951</td>\n",
       "      <td>0.94143</td>\n",
       "      <td>0.66557</td>\n",
       "      <td>0.41978</td>\n",
       "      <td>0.29678</td>\n",
       "      <td>2.51738</td>\n",
       "      <td>Switze</td>\n",
       "    </tr>\n",
       "    <tr>\n",
       "      <th>1</th>\n",
       "      <td>Iceland</td>\n",
       "      <td>Western Europe</td>\n",
       "      <td>2</td>\n",
       "      <td>7.561</td>\n",
       "      <td>0.04884</td>\n",
       "      <td>1.30232</td>\n",
       "      <td>1.40223</td>\n",
       "      <td>0.94784</td>\n",
       "      <td>0.62877</td>\n",
       "      <td>0.14145</td>\n",
       "      <td>0.43630</td>\n",
       "      <td>2.70201</td>\n",
       "      <td>Icelan</td>\n",
       "    </tr>\n",
       "    <tr>\n",
       "      <th>2</th>\n",
       "      <td>Denmark</td>\n",
       "      <td>Western Europe</td>\n",
       "      <td>3</td>\n",
       "      <td>7.527</td>\n",
       "      <td>0.03328</td>\n",
       "      <td>1.32548</td>\n",
       "      <td>1.36058</td>\n",
       "      <td>0.87464</td>\n",
       "      <td>0.64938</td>\n",
       "      <td>0.48357</td>\n",
       "      <td>0.34139</td>\n",
       "      <td>2.49204</td>\n",
       "      <td>Denmar</td>\n",
       "    </tr>\n",
       "    <tr>\n",
       "      <th>3</th>\n",
       "      <td>Norway</td>\n",
       "      <td>Western Europe</td>\n",
       "      <td>4</td>\n",
       "      <td>7.522</td>\n",
       "      <td>0.03880</td>\n",
       "      <td>1.45900</td>\n",
       "      <td>1.33095</td>\n",
       "      <td>0.88521</td>\n",
       "      <td>0.66973</td>\n",
       "      <td>0.36503</td>\n",
       "      <td>0.34699</td>\n",
       "      <td>2.46531</td>\n",
       "      <td>Norway</td>\n",
       "    </tr>\n",
       "    <tr>\n",
       "      <th>4</th>\n",
       "      <td>Canada</td>\n",
       "      <td>North America</td>\n",
       "      <td>5</td>\n",
       "      <td>7.427</td>\n",
       "      <td>0.03553</td>\n",
       "      <td>1.32629</td>\n",
       "      <td>1.32261</td>\n",
       "      <td>0.90563</td>\n",
       "      <td>0.63297</td>\n",
       "      <td>0.32957</td>\n",
       "      <td>0.45811</td>\n",
       "      <td>2.45176</td>\n",
       "      <td>Canada</td>\n",
       "    </tr>\n",
       "  </tbody>\n",
       "</table>\n",
       "</div>"
      ],
      "text/plain": [
       "       Country          Region  Happiness Rank  Happiness Score  \\\n",
       "0  Switzerland  Western Europe               1            7.587   \n",
       "1      Iceland  Western Europe               2            7.561   \n",
       "2      Denmark  Western Europe               3            7.527   \n",
       "3       Norway  Western Europe               4            7.522   \n",
       "4       Canada   North America               5            7.427   \n",
       "\n",
       "   Standard Error  Economy (GDP per Capita)   Family  \\\n",
       "0         0.03411                   1.39651  1.34951   \n",
       "1         0.04884                   1.30232  1.40223   \n",
       "2         0.03328                   1.32548  1.36058   \n",
       "3         0.03880                   1.45900  1.33095   \n",
       "4         0.03553                   1.32629  1.32261   \n",
       "\n",
       "   Health (Life Expectancy)  Freedom  Trust (Government Corruption)  \\\n",
       "0                   0.94143  0.66557                        0.41978   \n",
       "1                   0.94784  0.62877                        0.14145   \n",
       "2                   0.87464  0.64938                        0.48357   \n",
       "3                   0.88521  0.66973                        0.36503   \n",
       "4                   0.90563  0.63297                        0.32957   \n",
       "\n",
       "   Generosity  Dystopia Residual first_five_letters  \n",
       "0     0.29678            2.51738             Switze  \n",
       "1     0.43630            2.70201             Icelan  \n",
       "2     0.34139            2.49204             Denmar  \n",
       "3     0.34699            2.46531             Norway  \n",
       "4     0.45811            2.45176             Canada  "
      ]
     },
     "execution_count": 18,
     "metadata": {},
     "output_type": "execute_result"
    }
   ],
   "source": [
    "import numpy as np\n",
    "import pandas as pd\n",
    "\n",
    "df = pd.read_csv('happiness_score_dataset.csv')\n",
    "df.head()\n",
    "\n",
    "df['first_five_letters'] = df['Country'].apply(lambda x: x[:6])\n",
    "df.head()"
   ]
  },
  {
   "cell_type": "markdown",
   "id": "94930911",
   "metadata": {},
   "source": [
    "- Question 11- Write a Python program to match a string that contains only upper and lowercase letters, numbers, and underscores."
   ]
  },
  {
   "cell_type": "code",
   "execution_count": 15,
   "id": "031c7ce1",
   "metadata": {},
   "outputs": [
    {
     "name": "stdout",
     "output_type": "stream",
     "text": [
      "Not a match\n",
      "None\n",
      "Not a match\n",
      "None\n"
     ]
    }
   ],
   "source": [
    "def my_function(string):\n",
    "    reg = re.search('^[a-zA-Z0-9]*$', string)\n",
    "    if reg:\n",
    "        print('is a match')\n",
    "    else:\n",
    "        print('Not a match')\n",
    "        \n",
    "print(my_function(\"Hey How are you\"))\n",
    "print(my_function(\"Hey_hOW_2\"))"
   ]
  },
  {
   "cell_type": "markdown",
   "id": "77b53a66",
   "metadata": {},
   "source": [
    "\n",
    "- Question 12- Write a Python program where a string will start with a specific number. "
   ]
  },
  {
   "cell_type": "code",
   "execution_count": 16,
   "id": "0dc8a8fb",
   "metadata": {},
   "outputs": [
    {
     "name": "stdout",
     "output_type": "stream",
     "text": [
      "Enter a string : 34 how are you\n",
      "starts with a number\n"
     ]
    }
   ],
   "source": [
    "\n",
    "string = input(\"Enter a string : \")\n",
    "\n",
    "reg = re.search('^\\s*[0-9]',string)\n",
    "\n",
    "if reg:\n",
    "    print('starts with a number')\n",
    "else:\n",
    "    print('Does not start with a number')"
   ]
  },
  {
   "cell_type": "markdown",
   "id": "b72610ff",
   "metadata": {},
   "source": [
    "\n",
    "- Question 13- Write a Python program to remove leading zeros from an IP address"
   ]
  },
  {
   "cell_type": "code",
   "execution_count": 17,
   "id": "152f7ad3",
   "metadata": {},
   "outputs": [
    {
     "name": "stdout",
     "output_type": "stream",
     "text": [
      "212.9.54.786 \n"
     ]
    }
   ],
   "source": [
    "ip_address = \"212.09.054.786 \"\n",
    "\n",
    "pattern = r'\\.[0]*'\n",
    "\n",
    "remove_zeroes = re.sub(pattern,'.', ip_address)\n",
    "print(remove_zeroes)\n"
   ]
  },
  {
   "cell_type": "markdown",
   "id": "c349215a",
   "metadata": {},
   "source": [
    "- Question 14- Write a regular expression in python to match a date string in the form of Month name followed by day number and year stored in a text file.\n",
    "\n",
    "Sample text :  ' On August 15th 1947 that India was declared independent from British colonialism, and the reins of control were handed over to the leaders of the Country’.\n",
    "\n",
    "Expected Output- August 15th 1947\n",
    "\n",
    "Note- Store given sample text in the text file and then extract the date string asked format."
   ]
  },
  {
   "cell_type": "code",
   "execution_count": 130,
   "id": "ecf46ca0",
   "metadata": {},
   "outputs": [
    {
     "name": "stdout",
     "output_type": "stream",
     "text": [
      "['August 15th 1947']\n"
     ]
    }
   ],
   "source": [
    "text = \"On August 15th 1947 that India was declared independent from British colonialism, and the reins of control were handed over to the leaders of the Country.\"\n",
    "pattern =  r\"\\b([A-Z][a-z]+ \\d{1,2}(?:st|nd|rd|th)? \\d{4})\\b\"\n",
    "\n",
    "output = re.findall(pattern, text)\n",
    "\n",
    "print(output)"
   ]
  },
  {
   "cell_type": "markdown",
   "id": "35dc784f",
   "metadata": {},
   "source": [
    "- Question 15- Write a Python program to search some literals strings in a string. \n",
    "\n",
    "Sample text : 'The quick brown fox jumps over the lazy dog.'\n",
    "\n",
    "Searched words : 'fox', 'dog', 'horse'"
   ]
  },
  {
   "cell_type": "code",
   "execution_count": 120,
   "id": "7529fe7d",
   "metadata": {},
   "outputs": [
    {
     "name": "stdout",
     "output_type": "stream",
     "text": [
      "Searching for \"fox\" in \"The quick brown fox jumps over the lazy dog.\" : \n",
      "<re.Match object; span=(16, 19), match='fox'>\n",
      "Searching for \"dog\" in \"The quick brown fox jumps over the lazy dog.\" : \n",
      "<re.Match object; span=(40, 43), match='dog'>\n",
      "Searching for \"horse\" in \"The quick brown fox jumps over the lazy dog.\" : \n",
      "None\n"
     ]
    }
   ],
   "source": [
    "patterns = [ 'fox', 'dog', 'horse' ]\n",
    "text = 'The quick brown fox jumps over the lazy dog.'\n",
    "for pattern in patterns:\n",
    "    print('Searching for \"%s\" in \"%s\" : ' % (pattern, text))\n",
    "    print(re.search(pattern,  text))"
   ]
  },
  {
   "cell_type": "markdown",
   "id": "0f0f0740",
   "metadata": {},
   "source": [
    "- Question 16- Write a Python program to search a literals string in a string and also find the location within the original string where the pattern occurs\n",
    "\n",
    "Sample text : 'The quick brown fox jumps over the lazy dog.'\n",
    "\n",
    "Searched words : 'fox'"
   ]
  },
  {
   "cell_type": "code",
   "execution_count": 110,
   "id": "18c6c449",
   "metadata": {},
   "outputs": [
    {
     "name": "stdout",
     "output_type": "stream",
     "text": [
      "\"fox\" in \"The quick brown fox jumps over the lazy dog.\" from 16 to 19 \n"
     ]
    }
   ],
   "source": [
    "pattern = 'fox'\n",
    "text = 'The quick brown fox jumps over the lazy dog.'\n",
    "match = re.search(pattern, text)\n",
    "s = match.start()\n",
    "e = match.end()\n",
    "print('\"%s\" in \"%s\" from %d to %d ' % \\\n",
    "    (match.re.pattern, match.string, s, e))"
   ]
  },
  {
   "cell_type": "markdown",
   "id": "de465ce2",
   "metadata": {},
   "source": [
    "- Question 17- Write a Python program to find the substrings within a string.\n",
    "\n",
    "Sample text : 'Python exercises, PHP exercises, C# exercises'\n",
    "\n",
    "Pattern : 'exercises'."
   ]
  },
  {
   "cell_type": "code",
   "execution_count": 106,
   "id": "af01291a",
   "metadata": {},
   "outputs": [
    {
     "name": "stdout",
     "output_type": "stream",
     "text": [
      " \"exercises\"\n",
      " \"exercises\"\n",
      " \"exercises\"\n"
     ]
    }
   ],
   "source": [
    "text = 'Python exercises, PHP exercises, C# exercises'\n",
    "pattern = 'exercises'\n",
    "for match in re.findall(pattern, text):\n",
    "    print(' \"%s\"' % match)\n"
   ]
  },
  {
   "cell_type": "markdown",
   "id": "7b119349",
   "metadata": {},
   "source": [
    "- Question 18- Write a Python program to find the occurrence and position of the substrings within a string."
   ]
  },
  {
   "cell_type": "code",
   "execution_count": 105,
   "id": "fea3240d",
   "metadata": {},
   "outputs": [
    {
     "name": "stdout",
     "output_type": "stream",
     "text": [
      " \"exercises\" at 7:16\n",
      " \"exercises\" at 22:31\n",
      " \"exercises\" at 36:45\n"
     ]
    }
   ],
   "source": [
    "string = 'Python exercises, PHP exercises, C# exercises'\n",
    "pattern = 'exercises'\n",
    "for match in re.finditer(pattern, string):\n",
    "    s = match.start()\n",
    "    e = match.end()\n",
    "    print(' \"%s\" at %d:%d' % (string[s:e], s, e))"
   ]
  },
  {
   "cell_type": "markdown",
   "id": "1c068f8a",
   "metadata": {},
   "source": [
    "- Question 19- Write a Python program to convert a date of yyyy-mm-dd format to dd-mm-yyyy format."
   ]
  },
  {
   "cell_type": "code",
   "execution_count": 93,
   "id": "faa7459d",
   "metadata": {},
   "outputs": [
    {
     "data": {
      "text/plain": [
       "'09-03-2024'"
      ]
     },
     "execution_count": 93,
     "metadata": {},
     "output_type": "execute_result"
    }
   ],
   "source": [
    "def my_function(date):\n",
    "    pattern = r'(\\d{4})-(\\d{1,2})-(\\d{1,2})'\n",
    "    changed_format = re.sub(pattern, '\\\\3-\\\\2-\\\\1', date)\n",
    "    return changed_format\n",
    "\n",
    "Old_format = \"2024-03-09\"\n",
    "New_format = my_function(Old_format)\n",
    "New_format"
   ]
  },
  {
   "cell_type": "markdown",
   "id": "00cd5e71",
   "metadata": {},
   "source": [
    "- Question 20- Create a function in python to find all decimal numbers with a precision of 1 or 2 in a string. The use of the re.compile() method is mandatory.\n",
    "\n",
    "Sample Text: \"01.12 0132.123 2.31875 145.8 3.01 27.25 0.25\"\n",
    "\n",
    "Expected Output: ['01.12', '145.8', '3.01', '27.25', '0.25']"
   ]
  },
  {
   "cell_type": "code",
   "execution_count": 90,
   "id": "e289830d",
   "metadata": {},
   "outputs": [
    {
     "data": {
      "text/plain": [
       "['01.12', '0132.12', '2.31', '145.8', '3.01', '27.25', '0.25']"
      ]
     },
     "execution_count": 90,
     "metadata": {},
     "output_type": "execute_result"
    }
   ],
   "source": [
    "def my_function(text):\n",
    "    pattern = re.compile(r'\\d+\\.\\d{1,2}')\n",
    "    decimal = re.findall(pattern, text)\n",
    "    return decimal\n",
    "\n",
    "sample = \"01.12 0132.123 2.31875 145.8 3.01 27.25 0.25\"\n",
    "result = my_function(sample)\n",
    "result"
   ]
  },
  {
   "cell_type": "markdown",
   "id": "976a32ef",
   "metadata": {},
   "source": [
    "- Question 21- Write a Python program to separate and print the numbers and their position of a given string."
   ]
  },
  {
   "cell_type": "code",
   "execution_count": 88,
   "id": "b2a3d689",
   "metadata": {},
   "outputs": [
    {
     "name": "stdout",
     "output_type": "stream",
     "text": [
      "98\n",
      "Index position: 20\n"
     ]
    }
   ],
   "source": [
    "def my_function(string):\n",
    "    for x in re.finditer(\"\\d+\", text):\n",
    "        print(x.group(0))\n",
    "        print(\"Index position:\", x.start())\n",
    "\n",
    "text = 'I got highest marks 98 in math'\n",
    "result = my_function(text)"
   ]
  },
  {
   "cell_type": "markdown",
   "id": "5093ecf9",
   "metadata": {},
   "source": [
    "- Question 22- Write a regular expression in python program to extract maximum/largest numeric value from a string.\n",
    "\n",
    "Sample Text:  'My marks in each semester are: 947, 896, 926, 524, 734, 950, 642'\n",
    "\n",
    "Expected Output: 950"
   ]
  },
  {
   "cell_type": "code",
   "execution_count": 84,
   "id": "82849d01",
   "metadata": {},
   "outputs": [
    {
     "name": "stdout",
     "output_type": "stream",
     "text": [
      "950\n"
     ]
    }
   ],
   "source": [
    "text =  'My marks in each semester are: 947, 896, 926, 524, 734, 950, 642'\n",
    "pattern = r'\\d+'\n",
    "\n",
    "max_value = max(re.findall(pattern, text))\n",
    "print(max_value)"
   ]
  },
  {
   "cell_type": "markdown",
   "id": "d3bd6825",
   "metadata": {},
   "source": [
    "- Question 23- Create a function in python to insert spaces between words starting with capital letters.\n",
    "\n",
    "Sample Text: “RegularExpressionIsAnImportantTopicInPython\"\n",
    "\n",
    "Expected Output: Regular Expression Is An Important Topic In Python"
   ]
  },
  {
   "cell_type": "code",
   "execution_count": 82,
   "id": "f54d3917",
   "metadata": {},
   "outputs": [
    {
     "name": "stdout",
     "output_type": "stream",
     "text": [
      "Regular Expression Is An Important Topic In Python\n"
     ]
    }
   ],
   "source": [
    "def my_function(x):\n",
    "    pattern = r'([A-Z][a-z0-9]+|d+)'\n",
    "    result = re.sub(pattern, r' \\1', x)\n",
    "    result = result.strip()\n",
    "    return result\n",
    "\n",
    "text = \"RegularExpressionIsAnImportantTopicInPython\"\n",
    "\n",
    "result = my_function(text)\n",
    "print(result)"
   ]
  },
  {
   "cell_type": "markdown",
   "id": "181a9aba",
   "metadata": {},
   "source": [
    "\n",
    "- Question 24- Python regex to find sequences of one upper case letter followed by lower case letters"
   ]
  },
  {
   "cell_type": "code",
   "execution_count": 79,
   "id": "28fe84e5",
   "metadata": {},
   "outputs": [
    {
     "name": "stdout",
     "output_type": "stream",
     "text": [
      "['Hey', 'How', 'Are', 'You']\n"
     ]
    }
   ],
   "source": [
    "text = \" Hey! How Are You doing?\"\n",
    "pattern = r'[A-Z][a-z]+'\n",
    "result = re.findall(pattern, text)\n",
    "\n",
    "print(result)"
   ]
  },
  {
   "cell_type": "markdown",
   "id": "cd6ac6e5",
   "metadata": {},
   "source": [
    "- Question 25- Write a Python program to remove continuous duplicate words from Sentence using Regular Expression.\n",
    "\n",
    "Sample Text: \"Hello hello world world\"\n",
    "\n",
    "Expected Output: Hello hello world"
   ]
  },
  {
   "cell_type": "code",
   "execution_count": 77,
   "id": "0dad6347",
   "metadata": {},
   "outputs": [
    {
     "name": "stdout",
     "output_type": "stream",
     "text": [
      "Hello hello world\n"
     ]
    }
   ],
   "source": [
    "text = \"Hello hello world world\"\n",
    "\n",
    "pattern = r\"\\b(\\w+)(\\s+\\1\\b)+\"\n",
    "\n",
    "result = re.sub(pattern, r'\\1', text)\n",
    "print(result)"
   ]
  },
  {
   "cell_type": "markdown",
   "id": "021b3315",
   "metadata": {},
   "source": [
    "\n",
    "- Question 26-  Write a python program using RegEx to accept string ending with alphanumeric character"
   ]
  },
  {
   "cell_type": "code",
   "execution_count": 75,
   "id": "c0023be4",
   "metadata": {},
   "outputs": [
    {
     "name": "stdout",
     "output_type": "stream",
     "text": [
      "Enter a string - hey how are you @\n",
      "String not accepted\n"
     ]
    }
   ],
   "source": [
    "input_string = input(\"Enter a string - \")\n",
    "pattern = r\"\\w$\"\n",
    "match = re.search(pattern, input_string)\n",
    "\n",
    "if match:\n",
    "    print(\"String accepted\")\n",
    "else:\n",
    "    print(\"String not accepted\")\n"
   ]
  },
  {
   "cell_type": "markdown",
   "id": "d94ae466",
   "metadata": {},
   "source": [
    "- Question 27-Write a python program using RegEx to extract the hashtags.\n",
    "\n",
    "Sample Text:  \"\"\"RT @kapil_kausik: #Doltiwal I mean #xyzabc is \"hurt\" by #Demonetization as the same has rendered USELESS <ed><U+00A0><U+00BD><ed><U+00B1><U+0089> \"acquired funds\" No wo\"\"\"\n",
    "\n",
    "    Expected Output: ['#Doltiwal', '#xyzabc', '#Demonetization']"
   ]
  },
  {
   "cell_type": "code",
   "execution_count": 72,
   "id": "a3dcd1e9",
   "metadata": {},
   "outputs": [
    {
     "name": "stdout",
     "output_type": "stream",
     "text": [
      "['#Doltiwal', '#xyzabc', '#Demonetization']\n"
     ]
    }
   ],
   "source": [
    "text = \"\"\"RT @kapil_kausik: #Doltiwal I mean #xyzabc is \"hurt\" by #Demonetization as the same has rendered USELESS <U+00A0><U+00BD><U+00B1><U+0089> \"acquired funds\" No wo\"\"\"\n",
    "\n",
    "pattern = re.compile(r\"#\\w+\")\n",
    "\n",
    "hashtags = re.findall(pattern, text)\n",
    "\n",
    "print(hashtags)\n"
   ]
  },
  {
   "cell_type": "markdown",
   "id": "0de5885f",
   "metadata": {},
   "source": [
    "- Question 28- Write a python program using RegEx to remove <U+..> like symbols\n",
    "Check the below sample text, there are strange symbols something of the sort <U+..> all over the place. You need to come up with a general Regex expression that will cover all such symbols.\n",
    "\n",
    "Sample Text: \"@Jags123456 Bharat band on 28??<ed><U+00A0><U+00BD><ed><U+00B8><U+0082>Those who  are protesting #demonetization  are all different party leaders\"\n",
    "\n",
    "    Expected Output: @Jags123456 Bharat band on 28??<ed><ed>Those who  are protesting #demonetization  are all different party leaders"
   ]
  },
  {
   "cell_type": "code",
   "execution_count": 71,
   "id": "a44e4013",
   "metadata": {},
   "outputs": [
    {
     "name": "stdout",
     "output_type": "stream",
     "text": [
      "@Jags123456 Bharat band on 28??Those who are protesting #demonetization are all different party leaders\n"
     ]
    }
   ],
   "source": [
    "text = \"@Jags123456 Bharat band on 28??<U+00A0><U+00BD><U+00B8><U+0082>Those who are protesting #demonetization are all different party leaders\"\n",
    "\n",
    "pattern = re.compile(r\"<U\\+\\w{4}>\")\n",
    "\n",
    "result = re.sub(pattern, \"\",text)\n",
    "print(result)\n",
    "\n",
    "\n"
   ]
  },
  {
   "cell_type": "markdown",
   "id": "a20b2a62",
   "metadata": {},
   "source": [
    "- Question 29- Write a python program to extract dates from the text stored in the text file.\n",
    "\n",
    "Sample Text: Ron was born on 12-09-1992 and he was admitted to school 15-12-1999.\n",
    "\n",
    "Note- Store this sample text in the file and then extract dates."
   ]
  },
  {
   "cell_type": "code",
   "execution_count": 23,
   "id": "a3b54472",
   "metadata": {},
   "outputs": [
    {
     "name": "stdout",
     "output_type": "stream",
     "text": [
      "['12-09-1992', '15-12-1999']\n"
     ]
    }
   ],
   "source": [
    "import re\n",
    "file = open(\"text.txt\",'r')\n",
    "text = file.read()\n",
    "text = 'Ron was born on 12-09-1992 and he was admitted to school 15-12-1999.'\n",
    "pattern = '\\d{2}[/-]\\d{2}[/-]\\d{4}'\n",
    "\n",
    "date_extract = re.findall(pattern, text)\n",
    "\n",
    "print(date_extract)"
   ]
  },
  {
   "cell_type": "markdown",
   "id": "eb9ca8a5",
   "metadata": {},
   "source": [
    "\n",
    "- Question 30- Create a function in python to remove all words from a string of length between 2 and 4.\n",
    "The use of the re.compile() method is mandatory.\n",
    "\n",
    "Sample Text: \"The following example creates an ArrayList with a capacity of 50 elements. 4 elements are then added to the ArrayList and the ArrayList is trimmed accordingly.\"\n",
    "\n",
    "Expected Output:  following example creates ArrayList a capacity elements. 4 elements added ArrayList ArrayList trimmed accordingly."
   ]
  },
  {
   "cell_type": "code",
   "execution_count": 60,
   "id": "2e57b801",
   "metadata": {},
   "outputs": [
    {
     "name": "stdout",
     "output_type": "stream",
     "text": [
      " following example creates  ArrayList  a capacity   elements. 4 elements   added   ArrayList   ArrayList  trimmed accordingly.\n"
     ]
    }
   ],
   "source": [
    "def my_function(string):\n",
    "    pattern = re.compile(r'\\b\\w{2,4}\\b')\n",
    "    new_string = re.sub(pattern, '',string)\n",
    "    return new_string\n",
    "    \n",
    "sample_text = \"The following example creates an ArrayList with a capacity of 50 elements. 4 elements are then added to the ArrayList and the ArrayList is trimmed accordingly.\"\n",
    "\n",
    "result = my_function(sample_text)\n",
    "print(result)"
   ]
  },
  {
   "cell_type": "markdown",
   "id": "46cf0072",
   "metadata": {},
   "source": [
    "# The end "
   ]
  },
  {
   "cell_type": "code",
   "execution_count": null,
   "id": "443ea67c",
   "metadata": {},
   "outputs": [],
   "source": []
  }
 ],
 "metadata": {
  "kernelspec": {
   "display_name": "Python 3 (ipykernel)",
   "language": "python",
   "name": "python3"
  },
  "language_info": {
   "codemirror_mode": {
    "name": "ipython",
    "version": 3
   },
   "file_extension": ".py",
   "mimetype": "text/x-python",
   "name": "python",
   "nbconvert_exporter": "python",
   "pygments_lexer": "ipython3",
   "version": "3.10.9"
  }
 },
 "nbformat": 4,
 "nbformat_minor": 5
}
